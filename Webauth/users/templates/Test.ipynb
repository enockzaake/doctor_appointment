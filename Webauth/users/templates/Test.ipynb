{
 "cells": [
  {
   "cell_type": "code",
   "execution_count": 46,
   "metadata": {},
   "outputs": [
    {
     "name": "stdout",
     "output_type": "stream",
     "text": [
      "Found\n"
     ]
    }
   ],
   "source": [
    "a=[1,2]\n",
    "\n",
    "def binary(nums,val=1):\n",
    "    if len(nums)<=0:\n",
    "        return 'Not found'\n",
    "\n",
    "    mid=(len(nums)//2 -1)\n",
    "    if val == nums[mid]:\n",
    "        return 'Found'\n",
    "    else:\n",
    "        if val < nums[mid]:\n",
    "            return binary(nums[:mid])\n",
    "        else:\n",
    "            return binary(nums[mid+1:])\n",
    "\n",
    "print(binary(a))\n"
   ]
  },
  {
   "cell_type": "code",
   "execution_count": 73,
   "metadata": {},
   "outputs": [
    {
     "data": {
      "text/plain": [
       "6"
      ]
     },
     "execution_count": 73,
     "metadata": {},
     "output_type": "execute_result"
    }
   ],
   "source": [
    "def findGoodPairs( a, n, k):\n",
    "    # code here\n",
    "    ways=0\n",
    "    for i in range(n):\n",
    "        if a[i] in a[i+k:]:\n",
    "            ways+=1\n",
    "    dic={}\n",
    "    dup=1\n",
    "    for i,j in enumerate(a):\n",
    "        if j in dic:\n",
    "            dup+=1\n",
    "        else:\n",
    "            dic[j]=i\n",
    "         \n",
    "    if dup != n:\n",
    "        return ways\n",
    "    else:\n",
    "        return ways*2\n",
    "\n",
    "findGoodPairs(a,4,1)"
   ]
  },
  {
   "cell_type": "code",
   "execution_count": 109,
   "metadata": {},
   "outputs": [
    {
     "name": "stdout",
     "output_type": "stream",
     "text": [
      "{('r', 'e'), ('p', 't'), ('e', 'l'), ('a', 'i')}\n"
     ]
    },
    {
     "data": {
      "text/plain": [
       "['b', 'a']"
      ]
     },
     "execution_count": 109,
     "metadata": {},
     "output_type": "execute_result"
    }
   ],
   "source": [
    "print(set(zip('paper','title')))\n",
    "a='baab'\n",
    "dic={}\n",
    "dic[1]=''\n",
    "for i in a:\n",
    "    if i not in dic[1]:\n",
    "        dic[1]+=i\n",
    "dic[1]\n",
    "\n",
    "list(dict.fromkeys(a))\n",
    "\n"
   ]
  }
 ],
 "metadata": {
  "kernelspec": {
   "display_name": "Python 3",
   "language": "python",
   "name": "python3"
  },
  "language_info": {
   "codemirror_mode": {
    "name": "ipython",
    "version": 3
   },
   "file_extension": ".py",
   "mimetype": "text/x-python",
   "name": "python",
   "nbconvert_exporter": "python",
   "pygments_lexer": "ipython3",
   "version": "3.11.1 (tags/v3.11.1:a7a450f, Dec  6 2022, 19:58:39) [MSC v.1934 64 bit (AMD64)]"
  },
  "orig_nbformat": 4,
  "vscode": {
   "interpreter": {
    "hash": "366fc43e61dc3e1cf3ac432936cc45eb1586b2ea335d1b3e1c18de6c8b76373d"
   }
  }
 },
 "nbformat": 4,
 "nbformat_minor": 2
}
